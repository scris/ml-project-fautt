{
 "metadata": {
  "kernelspec": {
   "name": "python",
   "display_name": "Python (Pyodide)",
   "language": "python"
  },
  "language_info": {
   "codemirror_mode": {
    "name": "python",
    "version": 3
   },
   "file_extension": ".py",
   "mimetype": "text/x-python",
   "name": "python",
   "nbconvert_exporter": "python",
   "pygments_lexer": "ipython3",
   "version": "3.8"
  },
  "colab": {
   "provenance": []
  }
 },
 "nbformat_minor": 4,
 "nbformat": 4,
 "cells": [
  {
   "cell_type": "markdown",
   "source": "# CBU5201 mini-project submission\n\n\n## What is the problem?\n\nThis year's mini-project considers the problem of predicting whether a narrated story is true or not. Specifically, you will build a machine learning model that takes as an input an audio recording of **3-5 minutes** of duration and predicts whether the story being narrated is **true or not**. \n\n\n## Which dataset will I use?\n\nA total of 100 samples consisting of a complete audio recording, a *Language* attribute and a *Story Type* attribute have been made available for you to build your machine learning model. The audio recordings can be downloaded from:\n\nhttps://github.com/CBU5201Datasets/Deception\n\nA CSV file recording the *Language* attribute and *Story Type* of each audio file can be downloaded from:\n\nhttps://github.com/CBU5201Datasets/Deception/blob/main/CBU0521DD_stories_attributes.csv\n\n\n\n\n## What will I submit?\n\nYour submission will consist of **one single Jupyter notebook** that should include:\n\n*   **Text cells**, describing in your own words, rigorously and concisely your approach, each implemented step and the results that you obtain,\n*   **Code cells**, implementing each step,\n*   **Output cells**, i.e. the output from each code cell,\n\nYour notebook **should have the structure** outlined below. Please make sure that you **run all the cells** and that the **output cells are saved** before submission. \n\nPlease save your notebook as:\n\n* CBU5201_miniproject.ipynb\n\n\n## How will my submission be evaluated?\n\nThis submission is worth 16 marks. We will value:\n\n*   Conciseness in your writing.\n*   Correctness in your methodology.\n*   Correctness in your analysis and conclusions.\n*   Completeness.\n*   Originality and efforts to try something new.\n\n(4 marks are given based on your audio submission from stage 1.)\n\n**The final performance of your solutions will not influence your grade**. We will grade your understanding. If you have an good understanding, you will be using the right methodology, selecting the right approaches, assessing correctly the quality of your solutions, sometimes acknowledging that despite your attempts your solutions are not good enough, and critically reflecting on your work to suggest what you could have done differently. \n\nNote that **the problem that we are intending to solve is very difficult**. Do not despair if you do not get good results, **difficulty is precisely what makes it interesting** and **worth trying**. \n\n## Show the world what you can do \n\nWhy don't you use **GitHub** to manage your project? GitHub can be used as a presentation card that showcases what you have done and gives evidence of your data science skills, knowledge and experience. **Potential employers are always looking for this kind of evidence**. \n\n\n\n",
   "metadata": {
    "id": "91MsGMTna_P9"
   }
  },
  {
   "cell_type": "markdown",
   "source": "-------------------------------------- PLEASE USE THE STRUCTURE BELOW THIS LINE --------------------------------------------",
   "metadata": {}
  },
  {
   "cell_type": "markdown",
   "source": "# FAUTT-X: The First AUdio Then Text Approach with a XGBoost-led Model Architecture for Deceptive Story Detection",
   "metadata": {}
  },
  {
   "cell_type": "markdown",
   "source": [
    "# 1 Author\n",
    "\n",
    "**Student Name**: Tianze Qiu\n",
    "\n",
    "**Student ID**: 221170249\n",
    "\n"
   ],
   "metadata": {
    "id": "ZaGn4ICrfqXZ"
   }
  },
  {
   "cell_type": "markdown",
   "source": "# 2 Problem formulation\n\nDescribe the machine learning problem that you want to solve and explain what's interesting about it.",
   "metadata": {
    "id": "o38VQkcdKd6k"
   }
  },
  {
   "cell_type": "markdown",
   "source": "# 3 Methodology\n\nDescribe your methodology. Specifically, describe your training task and validation task, and how model performance is defined (i.e. accuracy, confusion matrix, etc). Any other tasks that might help you build your model should also be described here.",
   "metadata": {
    "id": "bPTSuaB9L2jU"
   }
  },
  {
   "cell_type": "markdown",
   "source": "# 4 Implemented ML prediction pipelines\n\nDescribe the ML prediction pipelines that you will explore. Clearly identify their input and output, stages and format of the intermediate data structures moving from one stage to the next. It's up to you to decide which stages to include in your pipeline. After providing an overview, describe in more detail each one of the stages that you have included in their corresponding subsections (i.e. 4.1 Transformation stage, 4.2 Model stage, 4.3 Ensemble stage).",
   "metadata": {
    "id": "N3BwrtEdLDit"
   }
  },
  {
   "cell_type": "markdown",
   "source": "## 4.1 Transformation stage\n\nDescribe any transformations, such as feature extraction. Identify input and output. Explain why you have chosen this transformation stage.",
   "metadata": {
    "id": "j1nDXnzYLLH6"
   }
  },
  {
   "cell_type": "markdown",
   "source": "## 4.2 Model stage\n\nDescribe the ML model(s) that you will build. Explain why you have chosen them.",
   "metadata": {
    "id": "0F5_kI95LuZ2"
   }
  },
  {
   "cell_type": "markdown",
   "source": "## 4.3 Ensemble stage\n\nDescribe any ensemble approach you might have included. Explain why you have chosen them.",
   "metadata": {}
  },
  {
   "cell_type": "markdown",
   "source": [
    "# 5 Dataset\n",
    "\n",
    "Describe the datasets that you will create to build and evaluate your models. Your datasets need to be based on our MLEnd Deception Dataset. After describing the datasets, build them here. You can explore and visualise the datasets here as well. \n",
    "\n",
    "If you are building separate training and validation datasets, do it here. Explain clearly how you are building such datasets, how you are ensuring that they serve their purpose (i.e. they are independent and consist of IID samples) and any limitations you might think of. It is always important to identify any limitations as early as possible. The scope and validity of your conclusions will depend on your ability to understand the limitations of your approach.\n",
    "\n",
    "If you are exploring different datasets, create different subsections for each dataset and give them a name (e.g. 5.1 Dataset A, 5.2 Dataset B, 5.3 Dataset 5.3) .\n",
    "\n"
   ],
   "metadata": {
    "id": "HZQPxztuL9AW"
   }
  },
  {
   "cell_type": "markdown",
   "source": "# 6 Experiments and results\n\nCarry out your experiments here. Analyse and explain your results. Unexplained results are worthless.",
   "metadata": {
    "id": "2qf7GN1aeXJI"
   }
  },
  {
   "cell_type": "markdown",
   "source": "# 7 Conclusions\n\nYour conclusions, suggestions for improvements, etc should go here.",
   "metadata": {
    "id": "fSrJCR_cekPO"
   }
  },
  {
   "cell_type": "markdown",
   "source": "# 8 References\n\nAcknowledge others here (books, papers, repositories, libraries, tools) ",
   "metadata": {}
  }
 ]
}
